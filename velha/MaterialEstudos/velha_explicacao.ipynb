{
 "cells": [
  {
   "cell_type": "markdown",
   "id": "f0b4b1df-b083-47b7-90ab-4c9e98cf0850",
   "metadata": {},
   "source": [
    "<h1>Jogo da forca</h1>\n",
    "<p>Este notebook serve para exemplificar de forma ditática com funciona o código do jogo da velha.</p>\n",
    "<h3>É necessário que voce tenha:</h3>\n",
    "<p>Python 3.6+</p>\n",
    "<p>Os módulos que usaremos são módulos padrões do python, então não é necessário que instale.</p>"
   ]
  },
  {
   "cell_type": "code",
   "execution_count": null,
   "id": "32cf14b2-a47d-4728-948a-60a1182f0462",
   "metadata": {},
   "outputs": [],
   "source": [
    "import random"
   ]
  },
  {
   "cell_type": "markdown",
   "id": "33ac07f9-fbc9-47bb-961d-f6da15191fca",
   "metadata": {},
   "source": [
    "<P>Import serve para importar o módulo random do python. \n",
    "Estamos importando o módulo random que serve para pegar um valor e o tornar aléatorio. \n",
    "</P>"
   ]
  },
  {
   "cell_type": "code",
   "execution_count": null,
   "id": "55b15257-2615-4ab2-88e4-7b7f3008fa2a",
   "metadata": {},
   "outputs": [],
   "source": [
    "numero = random.randoint(1,10)"
   ]
  },
  {
   "cell_type": "markdown",
   "id": "8b1e802b-c706-4119-998c-ee00211b25be",
   "metadata": {},
   "source": [
    "Criamos a váriavel ```Número``` que receberá 10 números. \n",
    "Com o ```randomint``` estámos aleatorizando a escolha de números\n",
    "começando por ```1``` e indo até 10. "
   ]
  },
  {
   "cell_type": "code",
   "execution_count": null,
   "id": "1c7cf721-2b1e-49b5-8077-c7c344a0a346",
   "metadata": {},
   "outputs": [],
   "source": [
    "import random \n",
    "numero = random.randoint(1,10)\n",
    "print(numero)"
   ]
  },
  {
   "cell_type": "markdown",
   "id": "c417d7d9-579a-4e18-b307-9418aa4f252f",
   "metadata": {},
   "source": [
    "Não necessariamente números são aléatorizados, mas pode ser strings, listas ou matrizes..."
   ]
  },
  {
   "cell_type": "markdown",
   "id": "84078cd2-d917-425b-a013-342ed94c723d",
   "metadata": {},
   "source": [
    "Agora a biblioteca ```Threading```. \n",
    "Thread de forma bem resumida significa linhas. Quando falamos em computação, Thread são linhas de trabalho de um processador. \n",
    "Exemplo: Um processador divide um nucléo em dois, para assim realizar operações múltiplas em segundo plano. É assim que podemos \n",
    "mexer no Instagram enquanto codamos. \n",
    "\n",
    "Agora trazendo o conceito para programação, é basicamente a mesma coisa. Na linguagem ```Python``` todos processos são sincronos. \n",
    "O Python por ser interpretada, le linha por linha e executada por hierarquia de processo. \n",
    "\n",
    "Sabendo disso, existe um módulo Thread, que serve para deixar os processos assíncronos. Ou seja, executar mais de dois processos ao mesmo tempo. \n"
   ]
  },
  {
   "cell_type": "code",
   "execution_count": null,
   "id": "06013863-55d3-4744-b9c3-0d623481c41b",
   "metadata": {},
   "outputs": [],
   "source": [
    "import threading\n",
    "import time"
   ]
  },
  {
   "cell_type": "markdown",
   "id": "03891aa7-299d-4c46-846f-dbc6dd8d2693",
   "metadata": {},
   "source": [
    "A primeira parte para usar Thread é importar a biblioteca. "
   ]
  },
  {
   "cell_type": "code",
   "execution_count": null,
   "id": "988671fe-4a15-4c15-9bb3-55ae6c73f917",
   "metadata": {},
   "outputs": [],
   "source": [
    "def tarefa():#criando tarefa de execução de thread\n",
    "    for i in range(10):\n",
    "        print(f\"Tarefa em execução: {i}\")\n",
    "        time.sleep(0.5)#definindo o tempo de espera do processo em 0.5 milissegundos"
   ]
  },
  {
   "cell_type": "markdown",
   "id": "362f8893-7584-453a-b00d-fab6593aff58",
   "metadata": {},
   "source": [
    "Depois precisamos criar uma função, explicaremos mais pra frente o motivo. Obs: Para tudo funcionar bem, importaremos também a biblioteca time"
   ]
  },
  {
   "cell_type": "code",
   "execution_count": null,
   "id": "6207f09c-32f7-4fbf-8866-cf10f3d0ed67",
   "metadata": {},
   "outputs": [],
   "source": [
    "thread = threading.Thread(target=tarefa)#criando a váriavel thread e definindo que ela é uma thread da função tarefa\n",
    "#Depois de criar a Thread para execução do processo, podemos criar a espera da thread, é algo opcional e usamos:"
   ]
  },
  {
   "cell_type": "code",
   "execution_count": null,
   "id": "93db216e-c0ec-4a17-af07-ae152c73d2dd",
   "metadata": {},
   "outputs": [],
   "source": [
    "thread.join()"
   ]
  },
  {
   "cell_type": "code",
   "execution_count": null,
   "id": "322aaa52-f5d1-4b39-92e9-ac7fba2408c8",
   "metadata": {},
   "outputs": [],
   "source": [
    "thread.start()#por fim estamos dando start na nossa thread, e ela vai ser executada em paralelo com outra função. "
   ]
  },
  {
   "cell_type": "code",
   "execution_count": null,
   "id": "bec9b5b8-c6e5-480c-b772-c6bf82692876",
   "metadata": {},
   "outputs": [],
   "source": [
    "import threading\n",
    "import time \n",
    "\n",
    "def tarefa():#criando tarefa de execução de thread\n",
    "    for i in range(10):#percorrendo 10 números indo de 0 á 9\n",
    "        print(f\"Tarefa em execução: {i}\")\n",
    "        time.sleep(0.5) #tempo de espera entre uma execução e outra\n",
    "thread = threading.Thread(target=tarefa)\n",
    "thread.start()"
   ]
  },
  {
   "cell_type": "markdown",
   "id": "9310312e-1e37-4d81-9463-58b816ae5a13",
   "metadata": {},
   "source": [
    "Também podemos fazer várias execuçãos de funções ao mesmo tempo. "
   ]
  },
  {
   "cell_type": "code",
   "execution_count": null,
   "id": "84bfaea3-0308-4a5f-9bac-e40c7fe8c7a7",
   "metadata": {},
   "outputs": [],
   "source": [
    "import threading\n",
    "import time \n",
    "def tarefa():#criando tarefa de execução de thread\n",
    "    for i in range(10):\n",
    "        print(f\"Tarefa em execução: {i}\")\n",
    "        time.sleep(0.5) #tempo de espera entre uma execução e outra \n",
    "# user_temp = int(input(\"Qual o tempo em segundos? \"))\n",
    "def carro1():\n",
    "    for i in range(10):\n",
    "        print(\"Carro 1 está correndo...\")\n",
    "        time.sleep(0.5)\n",
    "def carro2():\n",
    "    for i in range(10):\n",
    "        print(\"Carro 2 está correndo...\")\n",
    "        time.sleep(0.5)\n",
    "minha = threading.Thread(target=tarefa)\n",
    "carro2 = threading.Thread(target=carro2)\n",
    "carro1 = threading.Thread(target=carro1)\n",
    "carro1.start()\n",
    "minha.start()\n",
    "carro2.start()\n",
    "carro2.join()#join serve para definir que a tarefa será executada apenas quando a outra for\n",
    "carro1.join()#startando a thread para execução \n",
    "minha.join()\n",
    "# neste exemplo carro 1 será 1°, carro2 2° e tarefa por último."
   ]
  },
  {
   "cell_type": "markdown",
   "id": "3d01bbe3-4ac0-402d-a358-55c31eae84f6",
   "metadata": {},
   "source": [
    "<p>Matrizes em Python</p>"
   ]
  },
  {
   "attachments": {},
   "cell_type": "markdown",
   "id": "81adb3ff-7d54-427b-a038-abe018950e82",
   "metadata": {},
   "source": [
    "<p>O que são matrizes? </p>\n",
    "<p>Matrizes são estruturas bidimensionais (tabelas) com m linhas por n colunas muito importantes na matemática, utilizadas por exemplo para a resolução de sistemas de equações e transformações lineares.</p>\n",
    "<p>Em Python, uma matriz pode ser representada como uma lista de listas, onde um elemento da lista contém uma linha da matriz, que por sua vez corresponde a uma lista com os elementos da coluna da matriz.</p>"
   ]
  },
  {
   "cell_type": "code",
   "execution_count": null,
   "id": "a38f36fc-abc6-42c2-9f04-1c1139edb366",
   "metadata": {},
   "outputs": [],
   "source": [
    "def main():\n",
    "    matriz = [\n",
    "    [1, 2, 3],\n",
    "    [4, 5, 6],\n",
    "    [7, 8, 9]\n",
    "            ]\n",
    "    print(matriz)\n",
    "main()\n",
    "#colunaXlinha 3x3"
   ]
  },
  {
   "cell_type": "code",
   "execution_count": null,
   "id": "cd612905-c497-4ac5-9919-6315c24663e5",
   "metadata": {},
   "outputs": [],
   "source": [
    "import numpy as np\n",
    "#Podemos usar numpy para criar matrizes.\n",
    "matriz_2x2 = np.array([[1, 2], [3, 4]])\n",
    "\n",
    "print(\"Matriz 2x2:\")\n",
    "print(matriz_2x2)\n"
   ]
  },
  {
   "cell_type": "markdown",
   "id": "e3816b7b-aafa-4d53-8772-0b72716eef93",
   "metadata": {},
   "source": [
    "De forma resumida, matriz é lista dentro de lista. "
   ]
  },
  {
   "cell_type": "markdown",
   "id": "bd3262e1-cc78-4d9c-88c2-cc77c56c5c86",
   "metadata": {},
   "source": [
    "<h1>Código jogo da velha</h1>"
   ]
  },
  {
   "cell_type": "markdown",
   "id": "9843bc66-6c07-4af1-a4aa-62ab3a5704d1",
   "metadata": {},
   "source": [
    "<p>Como funciona?</p>\n",
    "<p>O jogo está modularizado para melhor compreensão e desenvolvimento.</p>\n",
    "<p>De inicio quando entramos no código aparece todos módulos importados.</p>"
   ]
  },
  {
   "cell_type": "code",
   "execution_count": null,
   "id": "8fd78537-9258-4587-9c37-97020c283874",
   "metadata": {},
   "outputs": [],
   "source": [
    "from arts import art #arts que serão usadas\n",
    "import jogo_velha_facil #jogo modo fácil\n",
    "import jogo_velha_dificil #jogo modo dificil"
   ]
  },
  {
   "cell_type": "code",
   "execution_count": null,
   "id": "ccce2c97-8a49-438b-ad83-78f0cff06951",
   "metadata": {},
   "outputs": [],
   "source": []
  },
  {
   "cell_type": "code",
   "execution_count": null,
   "id": "a65839ab-e604-4bf8-8a96-6fa85a578262",
   "metadata": {},
   "outputs": [],
   "source": [
    "def menu():\n",
    "    option = input(\"Choose an option: \\n1-Play \\n2-Play with time \\n3-Exit\\n\")\n",
    "    \n",
    "    match option:\n",
    "        case\"1\":\n",
    "            jogo_velha_facil.jogodavelha().jogovelhafacil()\n",
    "        case\"2\":\n",
    "            jogo_velha_dificil.jogodavelha().jogovelhadificil()\n",
    "        case\"3\":\n",
    "            art.arts_for_game().asc_art()\n",
    "            exit()\n"
   ]
  },
  {
   "cell_type": "markdown",
   "id": "4b63d48c-2dcd-4363-8c68-5e0be9d71345",
   "metadata": {},
   "source": [
    "Na tela inicial, é apresentado a função ```menu``` que é respónsavel por exibir as opções de escolha ao usúario. \n",
    "É exibido tres opções de escolha, sendo:\n",
    "```1-Play``` Jogar o jogo\n",
    "```2-Play with time``` Jogar o jogo com tempo\n",
    "```3-Exit``` Sair do jogo"
   ]
  },
  {
   "cell_type": "markdown",
   "id": "357742b9-9620-435e-8d6d-dc16a5e7f1a5",
   "metadata": {},
   "source": [
    "No python, quando modularizamos um código em pastas diferentes, usamos: \n",
    "````from pasta import módulo \n",
    "Ou seja, na pasta estamos buscando o módulo \n",
    "e para chamar a função no Python, podemos usar classe ou função, sendo recomendável, usar classe. \n",
    "Então o código na pasta ficaria assim:"
   ]
  },
  {
   "cell_type": "code",
   "execution_count": null,
   "id": "e5986c46-1750-4dac-b1ce-df7e1b41ff08",
   "metadata": {},
   "outputs": [],
   "source": [
    "class teste:\n",
    "    def __init__(self): #o atributo self é usado para acessar os atributos na classe \n",
    "        self.a=\"\"#o atributo esta sendo acessado e definido como vázio para não ser o primário, ou seja quando instanciarmos o código ele não será chamado\n",
    "    def demo_classe(self):\n",
    "        teste = \"olá mundo\"\n",
    "        print(teste)"
   ]
  },
  {
   "cell_type": "code",
   "execution_count": null,
   "id": "310f9b52-c61d-496b-9e38-8337fb8997c0",
   "metadata": {},
   "outputs": [],
   "source": [
    "#Já em nosso arquivo principal, usaremos assim:\n",
    "pasta.teste.demo_classe()"
   ]
  },
  {
   "cell_type": "markdown",
   "id": "c3a0ebd8-9319-429b-a2e8-ed1b82502e6f",
   "metadata": {},
   "source": [
    "Estamos fazendo a seguinte coisa:\n",
    "No arquivo ```pasta``` estamos chamando a classe ```teste``` e na classe teste a função ```demo_classe```"
   ]
  },
  {
   "cell_type": "code",
   "execution_count": null,
   "id": "83bd89fb",
   "metadata": {},
   "outputs": [],
   "source": [
    "import numpy as np\n",
    "\n",
    "tabuleiro = np.array([[\"\", \"\", \"\"], [\"\", \"\", \"\"], [\"\", \"\", \"\"]])\n",
    "vencer = False  # Variável que indicaria se o jogo terminou (não está sendo usada no momento)\n",
    "jogador1 = \"X\"  # Símbolo do jogador 1\n",
    "jogador2 = \"O\"  # Símbolo do jogador 2"
   ]
  },
  {
   "cell_type": "markdown",
   "id": "8a008af0",
   "metadata": {},
   "source": [
    "Biblioteca ```numpy``` serve para manipulação de dados númericos e científicos,  \n",
    "```vencer = false```, indica se o jogo terminou e\n",
    "```jogador1/2``` são variavéis dos jogadores. \n"
   ]
  },
  {
   "cell_type": "code",
   "execution_count": null,
   "id": "a62be64d",
   "metadata": {},
   "outputs": [],
   "source": [
    "def opcao():\n",
    "    print(\"Bem-vindo ao jogo da velha\") \n",
    "    escolha = input(\"1-Jogar\\n2-Sair\\n\")  #O jogador escolhe entre jogar ou sair\n",
    "    match escolha:  #Usando match-case para selecionar a ação com base na escolha\n",
    "        case \"1\": jogar()  #Se escolher \"1\", chama a função jogar()\n",
    "        case \"2\": print(\"Adeus\"); exit()  #Se escolher \"2\", imprime \"Adeus\" e sai do programa"
   ]
  },
  {
   "cell_type": "markdown",
   "id": "69f85b98",
   "metadata": {},
   "source": [
    "Na segunda parte do código, criamos uma função ```menu```, na função menu usamos um ```match``` que é um Switch Case, então \n",
    "caso escolha ```case \"1\"``` roda o jogo, caso ```case 2``` sai do jogo. "
   ]
  },
  {
   "cell_type": "code",
   "execution_count": null,
   "id": "5bd07864",
   "metadata": {},
   "outputs": [],
   "source": [
    "def jogar():\n",
    "    while True:\n",
    "        mostrarTabuleiro() \n",
    "        inserirLinhaColuna(jogador1)  #Jogador 1 faz a sua jogada\n",
    "        if checarSeGanhou(jogador1):  #Verifica se o Jogador 1 venceu\n",
    "            break  \n",
    "\n",
    "        mostrarTabuleiro()  \n",
    "        inserirLinhaColuna(jogador2)  #Jogador 2 faz a sua jogada\n",
    "        if checarSeGanhou(jogador2):  #Verifica se o Jogador 2 venceu\n",
    "            break  #Encerra o loop e o jogo caso o jogador 2 tenha vencido"
   ]
  },
  {
   "cell_type": "markdown",
   "id": "0a0c6404",
   "metadata": {},
   "source": [
    "Na função ```jogar``` é onde o tabuleiro é exibido, e verifica se o jogador 1 fez sua jogada. "
   ]
  },
  {
   "cell_type": "code",
   "execution_count": null,
   "id": "d8778fcf",
   "metadata": {},
   "outputs": [],
   "source": [
    "def mostrarTabuleiro():\n",
    "    print('##########JOGO DA VELHA##########')  # Cabeçalho\n",
    "    for i in range(3):  # Loop para percorrer as 3 linhas\n",
    "        # Exibe uma linha do tabuleiro no formato \"X | O | X\"\n",
    "        print(' ', tabuleiro[i, 0], '|', tabuleiro[i, 1], '|', tabuleiro[i, 2])  \n",
    "        if i < 2:  # Se não for a última linha, exibe uma linha divisória\n",
    "            print(\" --------- \")"
   ]
  },
  {
   "cell_type": "markdown",
   "id": "c92f4796",
   "metadata": {},
   "source": [
    "A função ```mostrarTabuleiro``` tem a finalidade de exibir o estado atual do tabuleiro do Jogo da Velha no console, de uma maneira organizada e visualmente clara para os jogadores."
   ]
  },
  {
   "cell_type": "code",
   "execution_count": null,
   "id": "9446e0e7",
   "metadata": {},
   "outputs": [],
   "source": [
    "def inserirLinhaColuna(jogador):\n",
    "    while True: \n",
    "        try:\n",
    "            #Solicita a linha e a coluna que o jogador quer jogar (1 a 3)\n",
    "            linha = int(input(f'JOGADOR {jogador} | DIGITE A LINHA (1-3): '))\n",
    "            coluna = int(input(f'JOGADOR {jogador} | DIGITE A COLUNA (1-3): '))\n",
    "            \n",
    "            #Verifica se a linha e coluna estão dentro do intervalo permitido\n",
    "            if 1 <= linha <= 3 and 1 <= coluna <= 3:\n",
    "                #Verifica se a posição já está ocupada\n",
    "                if tabuleiro[linha-1, coluna-1] == \"\":\n",
    "                    tabuleiro[linha-1, coluna-1] = jogador  #Marca a jogada no tabuleiro\n",
    "                    break  #Encerra o loop após uma jogada válida\n",
    "                else:\n",
    "                    print(\"Ocupada\")  #Se a posição já estiver ocupada, exibe mensagem\n",
    "            else:\n",
    "                print(\"Linha e coluna devem ser entre 1 e 3\")  #Verifica se a linha e coluna estão dentro do intervalo\n",
    "        except ValueError:\n",
    "            print(\"Digite um número entre 1 e 3\")  #Caso o jogador insira um valor inválido (não inteiro)"
   ]
  },
  {
   "cell_type": "markdown",
   "id": "903d177b",
   "metadata": {},
   "source": [
    "A função ```inserirLinhaColuna``` é responsável por permitir que os jogadores façam suas jogadas no Jogo da Velha. Ela solicita ao jogador que insira a linha e a coluna onde deseja fazer a jogada e realiza várias verificações para garantir que a jogada seja válida."
   ]
  },
  {
   "cell_type": "code",
   "execution_count": null,
   "id": "0279754d",
   "metadata": {},
   "outputs": [],
   "source": [
    "def checarSeGanhou(jogador):\n",
    "    if ganharEmLinha(jogador) or ganharEmColuna(jogador) or ganharEmDiagonal(jogador):\n",
    "        mostrarTabuleiro()  #Exibe o tabuleiro final\n",
    "        print(f'Jogador {jogador} ganhou')  #Exibe mensagem de vitória\n",
    "        return True  #Retorna True se o jogador venceu\n",
    "    if darVelha():  #Se o jogo terminou em velha\n",
    "        mostrarTabuleiro()  #Exibe o tabuleiro final\n",
    "        print(\"###DEU VELHA###\")  # Exibe mensagem de empate\n",
    "        return True  #Retorna True, indicando que o jogo terminou\n",
    "    return False  #Se o jogo não terminou, retorna False"
   ]
  },
  {
   "cell_type": "code",
   "execution_count": null,
   "id": "31dbf927",
   "metadata": {},
   "outputs": [],
   "source": [
    "def ganharEmLinha(jogador):\n",
    "    for a in range(3):  #Loop pelas 3 linhas do tabuleiro\n",
    "        if np.all(tabuleiro[a, :] == jogador):  # Verifica se todos os elementos da linha são iguais ao símbolo do jogador\n",
    "            return True  # Retorna True se o jogador venceu em alguma linha\n",
    "    return False  # Retorna False se o jogador não venceu em nenhuma linha\n",
    "\n",
    "# Função que verifica se um jogador ganhou em alguma coluna\n",
    "def ganharEmColuna(jogador):\n",
    "    for k in range(3):  # Loop pelas 3 colunas do tabuleiro\n",
    "        if np.all(tabuleiro[:, k] == jogador):  # Verifica se todos os elementos da coluna são iguais ao símbolo do jogador\n",
    "            return True  #Retorna True se o jogador venceu em alguma coluna\n",
    "    return False  #Retorna False se o jogador não venceu em nenhuma coluna\n",
    "\n",
    "#Função que verifica se um jogador ganhou em alguma diagonal\n",
    "def ganharEmDiagonal(jogador):\n",
    "    #Verifica se a diagonal principal (de cima a esquerda para baixo a direita) contém todos os símbolos do jogador\n",
    "    if np.all(np.diag(tabuleiro) == jogador): \n",
    "        return True\n",
    "    #Verifica se a diagonal secundária (de cima a direita para baixo a esquerda) contém todos os símbolos do jogador\n",
    "    if np.all(np.diag(np.fliplr(tabuleiro)) == jogador):  \n",
    "        return True\n",
    "    return False"
   ]
  },
  {
   "cell_type": "markdown",
   "id": "6f87710e",
   "metadata": {},
   "source": [
    "A função percorre cada linha do tabuleiro ```(usando o índice a de 0 a 2)```.\n",
    "Para cada linha, ela usa ```np.all(tabuleiro[a, :] == jogador)``` para verificar se todas as células da linha (representada por tabuleiro[a, :]) têm o valor igual ao símbolo do jogador (\"X\" ou \"O\").\n",
    "\n",
    "Se encontrar uma linha onde todos os elementos são iguais ao símbolo do jogador, a função ```retorna True``` (indicando que o jogador venceu na linha).\n",
    "Se não encontrar nenhuma linha válida, a função retorna False."
   ]
  },
  {
   "cell_type": "code",
   "execution_count": null,
   "id": "555756f9",
   "metadata": {},
   "outputs": [],
   "source": [
    "def ganharEmLinha(jogador):\n",
    "    for a in range(3):  #Loop pelas 3 linhas do tabuleiro\n",
    "        if np.all(tabuleiro[a, :] == jogador):  # Verifica se todos os elementos da linha são iguais ao símbolo do jogador\n",
    "            return True  # Retorna True se o jogador venceu em alguma linha\n",
    "    return False  # Retorna False se o jogador não venceu em nenhuma linha"
   ]
  },
  {
   "cell_type": "markdown",
   "id": "9450786e",
   "metadata": {},
   "source": [
    "A função verifica se o jogador venceu, chamando outras funções ```(ganharEmLinha, ganharEmColuna e ganharEmDiagonal).```\n",
    "Se qualquer uma dessas funções retornar ```True```, significa que o jogador ganhou, e o jogo termina com a mensagem de vitória.\n",
    "\n",
    "Caso contrário, a função verifica se o jogo terminou em empate, chamando a ```função darVelha()```. Se o tabuleiro estiver cheio e não houver vencedor, o jogo termina em \"velha\".\n",
    "Se nenhuma dessas condições for atendida, a função ```retorna False```, indicando que o jogo ainda está em andamento."
   ]
  },
  {
   "cell_type": "code",
   "execution_count": null,
   "id": "502b7e4e",
   "metadata": {},
   "outputs": [],
   "source": [
    "def ganharEmDiagonal(jogador):# Função que verifica se um jogador ganhou em alguma diagonal\n",
    "    # Verifica se a diagonal principal (de cima a esquerda para baixo a direita) contém todos os símbolos do jogador\n",
    "    if np.all(np.diag(tabuleiro) == jogador): \n",
    "        return True\n",
    "    # Verifica se a diagonal secundária (de cima a direita para baixo a esquerda) contém todos os símbolos do jogador\n",
    "    if np.all(np.diag(np.fliplr(tabuleiro)) == jogador):  \n",
    "        return True\n",
    "    return False  # Retorna False se o jogador não venceu em nenhuma diagonal"
   ]
  },
  {
   "cell_type": "markdown",
   "id": "f1b0c7f5",
   "metadata": {},
   "source": [
    " A função usa ```np.diag(tabuleiro)``` para obter os elementos da diagonal principal (de cima à esquerda para baixo à direita) do tabuleiro. Em seguida, verifica se todos os elementos dessa diagonal são iguais ao símbolo do jogador.\n",
    "\n",
    " A função usa ```np.fliplr(tabuleiro)``` para inverter o tabuleiro da direita para a esquerda (flip). Depois, ela usa ```np.diag``` novamente para obter os elementos da diagonal inversa (de cima à direita para baixo à esquerda) e verifica se todos os elementos dessa diagonal são iguais ao símbolo do jogador.\n",
    "\n",
    "Se qualquer uma das diagonais tiver todos os símbolos iguais ao do jogador, a função retorna ```True``` (indicando que o jogador venceu na diagonal).\n",
    "Caso contrário, retorna ```False```."
   ]
  },
  {
   "cell_type": "code",
   "execution_count": null,
   "id": "a277f338",
   "metadata": {},
   "outputs": [],
   "source": [
    "def ganharEmColuna(jogador):\n",
    "    for k in range(3):  #Loop pelas 3 colunas do tabuleiro\n",
    "        if np.all(tabuleiro[:, k] == jogador):  #Verifica se todos os elementos da coluna são iguais ao símbolo do jogador\n",
    "            return True  #Retorna True se o jogador venceu em alguma coluna\n",
    "    return False  #Retorna False se o jogador não venceu em nenhuma coluna"
   ]
  },
  {
   "cell_type": "markdown",
   "id": "a12452a8",
   "metadata": {},
   "source": [
    "A função percorre cada coluna do tabuleiro (usando o índice k de 0 a 2).\n",
    "Para cada coluna, ela usa ```np.all(tabuleiro[:, k] == jogador)``` para verificar se todos os elementos da coluna (representada por tabuleiro[:, k]) têm o valor igual ao símbolo do jogador.\n",
    "\n",
    "Se encontrar uma coluna onde todos os elementos são iguais ao símbolo do jogador, a função retorna ```True``` (indicando que o jogador venceu na coluna).\n",
    "Se não encontrar nenhuma coluna válida, a função retorna False."
   ]
  },
  {
   "cell_type": "code",
   "execution_count": null,
   "id": "19494421",
   "metadata": {},
   "outputs": [],
   "source": [
    "\n",
    "def darVelha():\n",
    "    if np.all(tabuleiro != \"\"):  # Verifica se todas as posições do tabuleiro estão preenchidas\n",
    "        return True  # Retorna True se o tabuleiro estiver cheio, indicando empate\n",
    "    return False  # Retorna False se ainda houver posições vazias\n",
    "# Função inicial que chama a opção de jogar ou sair"
   ]
  },
  {
   "cell_type": "markdown",
   "id": "2cd924b6",
   "metadata": {},
   "source": [
    "A função verifica se todas as células do tabuleiro estão preenchidas, usando ```np.all(tabuleiro != \"\")```. Isso verifica se não há mais células vazias (\"\").\n",
    "\n",
    "Se todas as células estiverem preenchidas, a função retorna True, indicando que o jogo terminou em empate.\n",
    "Caso contrário, retorna False, indicando que ainda há espaços disponíveis no tabuleiro."
   ]
  },
  {
   "cell_type": "markdown",
   "id": "342116ec",
   "metadata": {},
   "source": [
    "<h1>Overview</h1>\n",
    "Este código implementa um jogo da velha em Python com um tabuleiro 3x3, onde dois jogadores alternam jogadas até que um vença ou o jogo termine em empate (velha).\n",
    "\n",
    "Funcionalidade:\n",
    "\n",
    "    Menu de Início: O jogador pode escolher jogar ou sair.\n",
    "\n",
    "    Tabuleiro: Exibe o estado atual do jogo, com coordenadas para as posições vazias e \"X\" ou \"O\" para as jogadas.\n",
    "    \n",
    "    Entrada do Jogador: O jogador escolhe a linha e coluna (entre 1 e 3) para sua jogada. A função valida se a posição é válida e se está livre.\n",
    "\n",
    "    Verificação de Vitória: Após cada jogada, verifica se algum jogador ganhou (completando uma linha, coluna ou diagonal) ou se o jogo terminou em empate.\n",
    "    \n",
    "    Mensagens de Vitória e Empate: Ao final, o jogo exibe uma mensagem de vitória ou empate, com a ajuda de artes gráficas.\n",
    "\n",
    "O código usa o pacote numpy para manipular o tabuleiro e a classe art para exibir artes relacionadas ao jogo."
   ]
  },
  {
   "cell_type": "markdown",
   "id": "912631ef",
   "metadata": {},
   "source": [
    "<h1>Jogo da velha com Thread</h1>"
   ]
  },
  {
   "cell_type": "markdown",
   "id": "58c04651-6cd1-48b5-ba22-7f6a04787304",
   "metadata": {},
   "source": [
    "<p>Este código foi desenvolvido com base nas seguintes fontes bibliográficas:</p>\n",
    "<a href = \"https://medium.com/@lguilhermemazeto/jogo-da-velha-com-python-1fb31e9680c4\">Medium</a>\n",
    "<br>\n",
    "<a href = \"https://github.com/ArlysthonFeitosa/Jogo-da-velha/blob/master/Codigo/jogo-da-velha.py\">Github</a>\n",
    "<br>\n",
    "<a href = \"https://cursos.alura.com.br/forum/topico-ajuda-para-criar-um-jogo-da-velha-155120\">Alura</a>\n",
    "<br>\n",
    "<a href = \"https://www.datacamp.com/pt/tutorial/python-arrays\">Datacamp</a>\n",
    "<br>\n",
    "<a href = \"https://github.com/thelrybissi/ia-jogo-velha\">Velha com Minimax 1</a>\n",
    "<br>\n",
    "<a href=\"https://github.com/ReinaldoDiasAbreu/minimax\">Velha com Minimax 2</a>\n",
    "<br>\n",
    "<a href=\"https://github.com/gustavo-shigueo/JogoDaVelha-ComMinimax-Python/blob/master/main.py\">Velha com Minimax 2</a>\n",
    "<br>\n",
    "<a href=\"https://www.inf.ufrgs.br/~engel/data/media/file/inf01048/jogos.pdf\">O que é Minimax?</a>\n",
    "<br>\n",
    "<a href=\"https://realpython.com/tic-tac-toe-python/\">Tic Tac Toe Game</a>\n",
    "<br>\n",
    "<a href=\"https://www.shiksha.com/online-courses/articles/tic-tac-game-python/\">Tic Tac Toe Game working</a>\n",
    "<br>\n",
    "<a href=\"https://www.geeksforgeeks.org/numpy-all-in-python/\">Matriz com Numpy</a>"
   ]
  }
 ],
 "metadata": {
  "kernelspec": {
   "display_name": "Python 3 (ipykernel)",
   "language": "python",
   "name": "python3"
  },
  "language_info": {
   "codemirror_mode": {
    "name": "ipython",
    "version": 3
   },
   "file_extension": ".py",
   "mimetype": "text/x-python",
   "name": "python",
   "nbconvert_exporter": "python",
   "pygments_lexer": "ipython3",
   "version": "3.12.4"
  }
 },
 "nbformat": 4,
 "nbformat_minor": 5
}
